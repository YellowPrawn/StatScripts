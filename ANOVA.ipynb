{
 "cells": [
  {
   "cell_type": "markdown",
   "source": [
    "Comparing Counts"
   ],
   "metadata": {
    "collapsed": false,
    "pycharm": {
     "name": "#%% md\n"
    }
   }
  },
  {
   "cell_type": "code",
   "execution_count": 11,
   "outputs": [
    {
     "data": {
      "text/html": "<table class=\"dataframe\">\n<caption>A anova: 2 × 5</caption>\n<thead>\n\t<tr><th></th><th scope=col>Df</th><th scope=col>Sum Sq</th><th scope=col>Mean Sq</th><th scope=col>F value</th><th scope=col>Pr(&gt;F)</th></tr>\n\t<tr><th></th><th scope=col>&lt;int&gt;</th><th scope=col>&lt;dbl&gt;</th><th scope=col>&lt;dbl&gt;</th><th scope=col>&lt;dbl&gt;</th><th scope=col>&lt;dbl&gt;</th></tr>\n</thead>\n<tbody>\n\t<tr><th scope=row>col</th><td> 2</td><td>1400.476</td><td>700.2381</td><td>2.092279</td><td>0.1524037</td></tr>\n\t<tr><th scope=row>Residuals</th><td>18</td><td>6024.190</td><td>334.6772</td><td>      NA</td><td>       NA</td></tr>\n</tbody>\n</table>\n",
      "text/markdown": "\nA anova: 2 × 5\n\n| <!--/--> | Df &lt;int&gt; | Sum Sq &lt;dbl&gt; | Mean Sq &lt;dbl&gt; | F value &lt;dbl&gt; | Pr(&gt;F) &lt;dbl&gt; |\n|---|---|---|---|---|---|\n| col |  2 | 1400.476 | 700.2381 | 2.092279 | 0.1524037 |\n| Residuals | 18 | 6024.190 | 334.6772 |       NA |        NA |\n\n",
      "text/latex": "A anova: 2 × 5\n\\begin{tabular}{r|lllll}\n  & Df & Sum Sq & Mean Sq & F value & Pr(>F)\\\\\n  & <int> & <dbl> & <dbl> & <dbl> & <dbl>\\\\\n\\hline\n\tcol &  2 & 1400.476 & 700.2381 & 2.092279 & 0.1524037\\\\\n\tResiduals & 18 & 6024.190 & 334.6772 &       NA &        NA\\\\\n\\end{tabular}\n",
      "text/plain": "          Df Sum Sq   Mean Sq  F value  Pr(>F)   \ncol        2 1400.476 700.2381 2.092279 0.1524037\nResiduals 18 6024.190 334.6772       NA        NA"
     },
     "metadata": {},
     "output_type": "display_data"
    },
    {
     "data": {
      "text/html": "",
      "text/markdown": "",
      "text/latex": "",
      "text/plain": "logical(0)"
     },
     "metadata": {},
     "output_type": "display_data"
    }
   ],
   "source": [
    "c1 <- c(136, 162, 135, 180, 148, 127, 176, 144)\n",
    "c2 <- c(156, 113, 124, 128, 144, 147, 120)\n",
    "c3 <- c(126,151, 163, 146, 178, 134)\n",
    "\n",
    "data <- data.frame(\n",
    "  Y=c(c1, c2, c3),\n",
    "  col = factor(rep(c(\"c1\", \"c2\", \"c3\"), times=c(length(c1), length(c2), length(c3))))\n",
    ")\n",
    "\n",
    "conf <- 0.9\n",
    "alpha <- 0.05\n",
    "## enum: \"greater\", \"less\", \"two.sided\"\n",
    "HA <- \"two.sided\"\n",
    "\n",
    "test <- anova(lm(Y ~ col, data = data))\n",
    "test\n",
    "\n",
    "(test$p.value < alpha)"
   ],
   "metadata": {
    "collapsed": false,
    "pycharm": {
     "name": "#%%\n"
    }
   }
  },
  {
   "cell_type": "raw",
   "source": [
    "FALSE: reject H0"
   ],
   "metadata": {
    "collapsed": false,
    "pycharm": {
     "name": "#%% raw\n"
    }
   }
  }
 ],
 "metadata": {
  "kernelspec": {
   "name": "ir",
   "language": "R",
   "display_name": "R"
  },
  "language_info": {
   "codemirror_mode": "r",
   "file_extension": ".r",
   "mimetype": "text/x-r-source",
   "name": "R",
   "pygments_lexer": "r",
   "version": "4.0.5"
  }
 },
 "nbformat": 4,
 "nbformat_minor": 1
}