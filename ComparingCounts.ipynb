{
 "cells": [
  {
   "cell_type": "markdown",
   "source": [
    "Comparing Counts"
   ],
   "metadata": {
    "collapsed": false,
    "pycharm": {
     "name": "#%% md\n"
    }
   }
  },
  {
   "cell_type": "code",
   "execution_count": 1,
   "outputs": [
    {
     "data": {
      "text/html": "<table class=\"dataframe\">\n<caption>A matrix: 4 × 3 of type dbl</caption>\n<tbody>\n\t<tr><td> 67</td><td>213</td><td> 74</td></tr>\n\t<tr><td>411</td><td>633</td><td>129</td></tr>\n\t<tr><td> 85</td><td> 51</td><td>  7</td></tr>\n\t<tr><td> 27</td><td> 60</td><td> 15</td></tr>\n</tbody>\n</table>\n",
      "text/markdown": "\nA matrix: 4 × 3 of type dbl\n\n|  67 | 213 |  74 |\n| 411 | 633 | 129 |\n|  85 |  51 |   7 |\n|  27 |  60 |  15 |\n\n",
      "text/latex": "A matrix: 4 × 3 of type dbl\n\\begin{tabular}{lll}\n\t  67 & 213 &  74\\\\\n\t 411 & 633 & 129\\\\\n\t  85 &  51 &   7\\\\\n\t  27 &  60 &  15\\\\\n\\end{tabular}\n",
      "text/plain": "     [,1] [,2] [,3]\n[1,]  67  213   74 \n[2,] 411  633  129 \n[3,]  85   51    7 \n[4,]  27   60   15 "
     },
     "metadata": {},
     "output_type": "display_data"
    },
    {
     "data": {
      "text/plain": "\n\tPearson's Chi-squared test\n\ndata:  data\nX-squared = 94.269, df = 6, p-value < 2.2e-16\n"
     },
     "metadata": {},
     "output_type": "display_data"
    },
    {
     "data": {
      "text/html": "TRUE",
      "text/markdown": "TRUE",
      "text/latex": "TRUE",
      "text/plain": "[1] TRUE"
     },
     "metadata": {},
     "output_type": "display_data"
    }
   ],
   "source": [
    "data <- matrix(c(67,213,74,411,633,129,85,51,7,27,60,15), ncol = 3, byrow = TRUE)\n",
    "conf <- 0.9\n",
    "alpha <- 0.05\n",
    "data\n",
    "## enum: \"greater\", \"less\", \"two.sided\"\n",
    "HA <- \"two.sided\"\n",
    "\n",
    "test <- chisq.test(data, correct = FALSE)\n",
    "test\n",
    "\n",
    "(test$p.value < alpha)"
   ],
   "metadata": {
    "collapsed": false,
    "pycharm": {
     "name": "#%%\n"
    }
   }
  },
  {
   "cell_type": "raw",
   "source": [
    "FALSE: reject H0"
   ],
   "metadata": {
    "collapsed": false,
    "pycharm": {
     "name": "#%% raw\n"
    }
   }
  }
 ],
 "metadata": {
  "kernelspec": {
   "name": "ir",
   "language": "R",
   "display_name": "R"
  },
  "language_info": {
   "codemirror_mode": "r",
   "file_extension": ".r",
   "mimetype": "text/x-r-source",
   "name": "R",
   "pygments_lexer": "r",
   "version": "4.0.5"
  }
 },
 "nbformat": 4,
 "nbformat_minor": 1
}