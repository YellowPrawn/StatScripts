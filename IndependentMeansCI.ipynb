{
 "cells": [
  {
   "cell_type": "markdown",
   "source": [
    "Confidence Intervals for independent means"
   ],
   "metadata": {
    "collapsed": false,
    "pycharm": {
     "name": "#%% md\n"
    }
   }
  },
  {
   "cell_type": "code",
   "execution_count": 6,
   "outputs": [
    {
     "data": {
      "text/html": "-1.00786115097678",
      "text/markdown": "-1.00786115097678",
      "text/latex": "-1.00786115097678",
      "text/plain": "[1] -1.007861"
     },
     "metadata": {},
     "output_type": "display_data"
    },
    {
     "data": {
      "text/html": "0.207861150976772",
      "text/markdown": "0.207861150976772",
      "text/latex": "0.207861150976772",
      "text/plain": "[1] 0.2078612"
     },
     "metadata": {},
     "output_type": "display_data"
    }
   ],
   "source": [
    "y1 <- 45.8\n",
    "y2 <- 46.2\n",
    "n1 <- 30\n",
    "n2 <- 30\n",
    "s1 <- 1.2\n",
    "s2 <- 1.1\n",
    "alpha <- 0.95\n",
    "\n",
    "SE <- sqrt(s1^2/n1 + s2^2/n2)\n",
    "t <- qt(alpha + (1-alpha) / 2, min(n1-1, n2-1))\n",
    "mean <- y1-y2\n",
    "\n",
    "(mean - t * SE)\n",
    "(mean + t * SE)"
   ],
   "metadata": {
    "collapsed": false,
    "pycharm": {
     "name": "#%%\n"
    }
   }
  },
  {
   "cell_type": "raw",
   "source": [
    "Find sample size"
   ],
   "metadata": {
    "collapsed": false,
    "pycharm": {
     "name": "#%% raw\n"
    }
   }
  },
  {
   "cell_type": "code",
   "execution_count": 5,
   "outputs": [
    {
     "data": {
      "text/html": "381.687348424168",
      "text/markdown": "381.687348424168",
      "text/latex": "381.687348424168",
      "text/plain": "[1] 381.6873"
     },
     "metadata": {},
     "output_type": "display_data"
    }
   ],
   "source": [
    "sample_proportion <- 92/200\n",
    "ME <- 0.05\n",
    "alpha <- 0.95\n",
    "\n",
    "z <- qnorm(alpha + (1-alpha) / 2)\n",
    "\n",
    "z^2 * (sample_proportion) * (1-sample_proportion) / ME^2"
   ],
   "metadata": {
    "collapsed": false,
    "pycharm": {
     "name": "#%%\n"
    }
   }
  },
  {
   "cell_type": "code",
   "execution_count": 6,
   "outputs": [],
   "source": [],
   "metadata": {
    "collapsed": false,
    "pycharm": {
     "name": "#%%\n"
    }
   }
  }
 ],
 "metadata": {
  "kernelspec": {
   "name": "ir",
   "language": "R",
   "display_name": "R"
  },
  "language_info": {
   "codemirror_mode": "r",
   "file_extension": ".r",
   "mimetype": "text/x-r-source",
   "name": "R",
   "pygments_lexer": "r",
   "version": "4.0.5"
  }
 },
 "nbformat": 4,
 "nbformat_minor": 1
}