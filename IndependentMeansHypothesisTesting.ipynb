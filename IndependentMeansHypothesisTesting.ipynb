{
 "cells": [
  {
   "cell_type": "markdown",
   "source": [
    "Confidence Intervals for Population Proportions"
   ],
   "metadata": {
    "collapsed": false,
    "pycharm": {
     "name": "#%% md\n"
    }
   }
  },
  {
   "cell_type": "code",
   "execution_count": 2,
   "outputs": [
    {
     "data": {
      "text/html": "-1.34585316982093",
      "text/markdown": "-1.34585316982093",
      "text/latex": "-1.34585316982093",
      "text/plain": "[1] -1.345853"
     },
     "metadata": {},
     "output_type": "display_data"
    }
   ],
   "source": [
    "y1 <- 45.8\n",
    "y2 <- 46.2\n",
    "n1 <- 30\n",
    "n2 <- 30\n",
    "s1 <- 1.2\n",
    "s2 <- 1.1\n",
    "alpha <- 0.95\n",
    "\n",
    "u1 <- 0\n",
    "u2 <- 0\n",
    "\n",
    "delta <- u1-u2\n",
    "SE <- sqrt(s1^2/n1 + s2^2/n2)\n",
    "t <- (y1-y2-delta)/SE\n",
    "t\n",
    "\n",
    "alpha <- 0"
   ],
   "metadata": {
    "collapsed": false,
    "pycharm": {
     "name": "#%%\n"
    }
   }
  },
  {
   "cell_type": "raw",
   "source": [
    "H0 < HA (true: reject H0, false: fail to reject H0)"
   ],
   "metadata": {
    "collapsed": false,
    "pycharm": {
     "name": "#%% raw\n"
    }
   }
  },
  {
   "cell_type": "code",
   "execution_count": 3,
   "outputs": [
    {
     "data": {
      "text/html": "0.905611038876966",
      "text/markdown": "0.905611038876966",
      "text/latex": "0.905611038876966",
      "text/plain": "[1] 0.905611"
     },
     "metadata": {},
     "output_type": "display_data"
    },
    {
     "data": {
      "text/html": "FALSE",
      "text/markdown": "FALSE",
      "text/latex": "FALSE",
      "text/plain": "[1] FALSE"
     },
     "metadata": {},
     "output_type": "display_data"
    }
   ],
   "source": [
    "pvalue <- 1 - pt(t, min(n1-1, n2-1))\n",
    "pvalue\n",
    "(pvalue < alpha)"
   ],
   "metadata": {
    "collapsed": false,
    "pycharm": {
     "name": "#%%\n"
    }
   }
  },
  {
   "cell_type": "raw",
   "source": [
    "H0 > HA"
   ],
   "metadata": {
    "collapsed": false,
    "pycharm": {
     "name": "#%% raw\n"
    }
   }
  },
  {
   "cell_type": "code",
   "execution_count": 4,
   "outputs": [
    {
     "data": {
      "text/html": "0.0943889611230338",
      "text/markdown": "0.0943889611230338",
      "text/latex": "0.0943889611230338",
      "text/plain": "[1] 0.09438896"
     },
     "metadata": {},
     "output_type": "display_data"
    },
    {
     "data": {
      "text/html": "FALSE",
      "text/markdown": "FALSE",
      "text/latex": "FALSE",
      "text/plain": "[1] FALSE"
     },
     "metadata": {},
     "output_type": "display_data"
    }
   ],
   "source": [
    "pvalue <- pt(t, min(n1-1, n2-1))\n",
    "pvalue\n",
    "(pvalue < alpha)"
   ],
   "metadata": {
    "collapsed": false,
    "pycharm": {
     "name": "#%%\n"
    }
   }
  },
  {
   "cell_type": "raw",
   "source": [
    "H0 =/= HA"
   ],
   "metadata": {
    "collapsed": false,
    "pycharm": {
     "name": "#%% raw\n"
    }
   }
  },
  {
   "cell_type": "code",
   "execution_count": 5,
   "outputs": [
    {
     "data": {
      "text/html": "1.81122207775393",
      "text/markdown": "1.81122207775393",
      "text/latex": "1.81122207775393",
      "text/plain": "[1] 1.811222"
     },
     "metadata": {},
     "output_type": "display_data"
    },
    {
     "data": {
      "text/html": "FALSE",
      "text/markdown": "FALSE",
      "text/latex": "FALSE",
      "text/plain": "[1] FALSE"
     },
     "metadata": {},
     "output_type": "display_data"
    }
   ],
   "source": [
    "pvalue <- 2*(1-pt(t, min(n1-1, n2-1)))\n",
    "pvalue\n",
    "(pvalue < alpha)"
   ],
   "metadata": {
    "collapsed": false,
    "pycharm": {
     "name": "#%%\n"
    }
   }
  }
 ],
 "metadata": {
  "kernelspec": {
   "name": "ir",
   "language": "R",
   "display_name": "R"
  },
  "language_info": {
   "codemirror_mode": "r",
   "file_extension": ".r",
   "mimetype": "text/x-r-source",
   "name": "R",
   "pygments_lexer": "r",
   "version": "4.0.5"
  }
 },
 "nbformat": 4,
 "nbformat_minor": 1
}