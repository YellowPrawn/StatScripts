{
 "cells": [
  {
   "cell_type": "markdown",
   "source": [
    "Confidence Intervals for sample means"
   ],
   "metadata": {
    "collapsed": false,
    "pycharm": {
     "name": "#%% md\n"
    }
   }
  },
  {
   "cell_type": "code",
   "execution_count": 4,
   "outputs": [
    {
     "data": {
      "text/html": "1.00299603557681",
      "text/markdown": "1.00299603557681",
      "text/latex": "1.00299603557681",
      "text/plain": "[1] 1.002996"
     },
     "metadata": {},
     "output_type": "display_data"
    },
    {
     "data": {
      "text/html": "1.00300396442319",
      "text/markdown": "1.00300396442319",
      "text/latex": "1.00300396442319",
      "text/plain": "[1] 1.003004"
     },
     "metadata": {},
     "output_type": "display_data"
    }
   ],
   "source": [
    "sample_mean <- 80\n",
    "n <- 400\n",
    "s <- 12\n",
    "alpha <- 0.01\n",
    "\n",
    "SE <- s/sqrt(n)\n",
    "t <- qt(alpha + (1-alpha) / 2, n-1)\n",
    "\n",
    "(sample_mean - t * SE)\n",
    "(sample_mean + t * SE)"
   ],
   "metadata": {
    "collapsed": false,
    "pycharm": {
     "name": "#%%\n"
    }
   }
  },
  {
   "cell_type": "raw",
   "source": [
    "Find sample size"
   ],
   "metadata": {
    "collapsed": false,
    "pycharm": {
     "name": "#%% raw\n"
    }
   }
  },
  {
   "cell_type": "code",
   "execution_count": 5,
   "outputs": [
    {
     "data": {
      "text/html": "381.687348424168",
      "text/markdown": "381.687348424168",
      "text/latex": "381.687348424168",
      "text/plain": "[1] 381.6873"
     },
     "metadata": {},
     "output_type": "display_data"
    }
   ],
   "source": [
    "sample_proportion <- 92/200\n",
    "ME <- 0.05\n",
    "alpha <- 0.95\n",
    "\n",
    "z <- qnorm(alpha + (1-alpha) / 2)\n",
    "\n",
    "z^2 * (sample_proportion) * (1-sample_proportion) / ME^2"
   ],
   "metadata": {
    "collapsed": false,
    "pycharm": {
     "name": "#%%\n"
    }
   }
  },
  {
   "cell_type": "code",
   "execution_count": 6,
   "outputs": [],
   "source": [],
   "metadata": {
    "collapsed": false,
    "pycharm": {
     "name": "#%%\n"
    }
   }
  }
 ],
 "metadata": {
  "kernelspec": {
   "name": "ir",
   "language": "R",
   "display_name": "R"
  },
  "language_info": {
   "codemirror_mode": "r",
   "file_extension": ".r",
   "mimetype": "text/x-r-source",
   "name": "R",
   "pygments_lexer": "r",
   "version": "4.0.5"
  }
 },
 "nbformat": 4,
 "nbformat_minor": 1
}