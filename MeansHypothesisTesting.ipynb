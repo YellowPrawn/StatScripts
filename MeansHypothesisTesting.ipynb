{
 "cells": [
  {
   "cell_type": "markdown",
   "source": [
    "Confidence Intervals for Population Proportions"
   ],
   "metadata": {
    "collapsed": false,
    "pycharm": {
     "name": "#%% md\n"
    }
   }
  },
  {
   "cell_type": "code",
   "execution_count": 1,
   "outputs": [
    {
     "data": {
      "text/html": "9.4868329805048",
      "text/markdown": "9.4868329805048",
      "text/latex": "9.4868329805048",
      "text/plain": "[1] 9.486833"
     },
     "metadata": {},
     "output_type": "display_data"
    }
   ],
   "source": [
    "u0 <- 1\n",
    "u <- 1.003\n",
    "n <- 1000\n",
    "s <- 0.01\n",
    "\n",
    "t <- (u-u0)/(s/sqrt(n))\n",
    "t\n",
    "\n",
    "alpha <- 0"
   ],
   "metadata": {
    "collapsed": false,
    "pycharm": {
     "name": "#%%\n"
    }
   }
  },
  {
   "cell_type": "raw",
   "source": [
    "Unknown SD"
   ],
   "metadata": {
    "collapsed": false,
    "pycharm": {
     "name": "#%% raw\n"
    }
   }
  },
  {
   "cell_type": "raw",
   "source": [
    "H0 < HA (true: reject H0, false: fail to reject H0)"
   ],
   "metadata": {
    "collapsed": false,
    "pycharm": {
     "name": "#%% raw\n"
    }
   }
  },
  {
   "cell_type": "code",
   "execution_count": 2,
   "outputs": [
    {
     "data": {
      "text/html": "1",
      "text/markdown": "1",
      "text/latex": "1",
      "text/plain": "[1] 1"
     },
     "metadata": {},
     "output_type": "display_data"
    },
    {
     "data": {
      "text/html": "FALSE",
      "text/markdown": "FALSE",
      "text/latex": "FALSE",
      "text/plain": "[1] FALSE"
     },
     "metadata": {},
     "output_type": "display_data"
    }
   ],
   "source": [
    "pvalue <- pt(t, n-1)\n",
    "pvalue\n",
    "(pvalue < alpha)"
   ],
   "metadata": {
    "collapsed": false,
    "pycharm": {
     "name": "#%%\n"
    }
   }
  },
  {
   "cell_type": "raw",
   "source": [
    "H0 > HA"
   ],
   "metadata": {
    "collapsed": false,
    "pycharm": {
     "name": "#%% raw\n"
    }
   }
  },
  {
   "cell_type": "code",
   "execution_count": 3,
   "outputs": [
    {
     "data": {
      "text/html": "0",
      "text/markdown": "0",
      "text/latex": "0",
      "text/plain": "[1] 0"
     },
     "metadata": {},
     "output_type": "display_data"
    },
    {
     "data": {
      "text/html": "FALSE",
      "text/markdown": "FALSE",
      "text/latex": "FALSE",
      "text/plain": "[1] FALSE"
     },
     "metadata": {},
     "output_type": "display_data"
    }
   ],
   "source": [
    "pvalue <- 1-pt(t, n-1)\n",
    "pvalue\n",
    "(pvalue < alpha)"
   ],
   "metadata": {
    "collapsed": false,
    "pycharm": {
     "name": "#%%\n"
    }
   }
  },
  {
   "cell_type": "raw",
   "source": [
    "H0 =/= HA"
   ],
   "metadata": {
    "collapsed": false,
    "pycharm": {
     "name": "#%% raw\n"
    }
   }
  },
  {
   "cell_type": "code",
   "execution_count": 4,
   "outputs": [
    {
     "data": {
      "text/html": "0",
      "text/markdown": "0",
      "text/latex": "0",
      "text/plain": "[1] 0"
     },
     "metadata": {},
     "output_type": "display_data"
    },
    {
     "data": {
      "text/html": "FALSE",
      "text/markdown": "FALSE",
      "text/latex": "FALSE",
      "text/plain": "[1] FALSE"
     },
     "metadata": {},
     "output_type": "display_data"
    }
   ],
   "source": [
    "pvalue <- 2*(1-pt(t, n-1))\n",
    "pvalue\n",
    "(pvalue < alpha)"
   ],
   "metadata": {
    "collapsed": false,
    "pycharm": {
     "name": "#%%\n"
    }
   }
  },
  {
   "cell_type": "raw",
   "source": [
    "Known SD"
   ],
   "metadata": {
    "collapsed": false,
    "pycharm": {
     "name": "#%% raw\n"
    }
   }
  },
  {
   "cell_type": "raw",
   "source": [
    "H0 < HA (true: reject H0, false: fail to reject H0)"
   ],
   "metadata": {
    "collapsed": false,
    "pycharm": {
     "name": "#%% raw\n"
    }
   }
  },
  {
   "cell_type": "code",
   "execution_count": 5,
   "outputs": [
    {
     "data": {
      "text/html": "1",
      "text/markdown": "1",
      "text/latex": "1",
      "text/plain": "[1] 1"
     },
     "metadata": {},
     "output_type": "display_data"
    },
    {
     "data": {
      "text/html": "FALSE",
      "text/markdown": "FALSE",
      "text/latex": "FALSE",
      "text/plain": "[1] FALSE"
     },
     "metadata": {},
     "output_type": "display_data"
    }
   ],
   "source": [
    "pvalue <- pnorm(t)\n",
    "pvalue\n",
    "(pvalue < alpha)"
   ],
   "metadata": {
    "collapsed": false,
    "pycharm": {
     "name": "#%%\n"
    }
   }
  },
  {
   "cell_type": "raw",
   "source": [
    "H0 > HA"
   ],
   "metadata": {
    "collapsed": false,
    "pycharm": {
     "name": "#%% raw\n"
    }
   }
  },
  {
   "cell_type": "code",
   "execution_count": 6,
   "outputs": [
    {
     "data": {
      "text/html": "0",
      "text/markdown": "0",
      "text/latex": "0",
      "text/plain": "[1] 0"
     },
     "metadata": {},
     "output_type": "display_data"
    },
    {
     "data": {
      "text/html": "FALSE",
      "text/markdown": "FALSE",
      "text/latex": "FALSE",
      "text/plain": "[1] FALSE"
     },
     "metadata": {},
     "output_type": "display_data"
    }
   ],
   "source": [
    "pvalue <- 1-pnorm(t)\n",
    "pvalue\n",
    "(pvalue < alpha)"
   ],
   "metadata": {
    "collapsed": false,
    "pycharm": {
     "name": "#%%\n"
    }
   }
  },
  {
   "cell_type": "raw",
   "source": [
    "H0 =/= HA"
   ],
   "metadata": {
    "collapsed": false,
    "pycharm": {
     "name": "#%% raw\n"
    }
   }
  },
  {
   "cell_type": "code",
   "execution_count": 7,
   "outputs": [
    {
     "data": {
      "text/html": "0",
      "text/markdown": "0",
      "text/latex": "0",
      "text/plain": "[1] 0"
     },
     "metadata": {},
     "output_type": "display_data"
    },
    {
     "data": {
      "text/html": "FALSE",
      "text/markdown": "FALSE",
      "text/latex": "FALSE",
      "text/plain": "[1] FALSE"
     },
     "metadata": {},
     "output_type": "display_data"
    }
   ],
   "source": [
    "pvalue <- 2*(1-pnorm(t))\n",
    "pvalue\n",
    " (pvalue < alpha)"
   ],
   "metadata": {
    "collapsed": false,
    "pycharm": {
     "name": "#%%\n"
    }
   }
  }
 ],
 "metadata": {
  "kernelspec": {
   "name": "ir",
   "language": "R",
   "display_name": "R"
  },
  "language_info": {
   "codemirror_mode": "r",
   "file_extension": ".r",
   "mimetype": "text/x-r-source",
   "name": "R",
   "pygments_lexer": "r",
   "version": "4.0.5"
  }
 },
 "nbformat": 4,
 "nbformat_minor": 1
}