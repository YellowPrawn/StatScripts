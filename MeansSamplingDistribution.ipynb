{
 "cells": [
  {
   "cell_type": "markdown",
   "source": [
    "Sampling Distribution of means"
   ],
   "metadata": {
    "collapsed": false,
    "pycharm": {
     "name": "#%% md\n"
    }
   }
  },
  {
   "cell_type": "markdown",
   "source": [],
   "metadata": {
    "collapsed": false
   }
  },
  {
   "cell_type": "code",
   "execution_count": 8,
   "metadata": {
    "pycharm": {
     "name": "#%%\n"
    }
   },
   "outputs": [],
   "source": [
    "n <- 6\n",
    "sample_mean <-298\n",
    "population_SD <- 3\n",
    "sample_SD <- population_SD/sqrt(n)\n",
    "\n",
    "x <- 295\n",
    "percentage_range <- 0.95"
   ]
  },
  {
   "cell_type": "raw",
   "source": [
    "Upper Tail"
   ],
   "metadata": {
    "collapsed": false,
    "pycharm": {
     "name": "#%% raw\n"
    }
   }
  },
  {
   "cell_type": "code",
   "execution_count": 3,
   "outputs": [
    {
     "data": {
      "text/html": "0.0092110627270495",
      "text/markdown": "0.0092110627270495",
      "text/latex": "0.0092110627270495",
      "text/plain": "[1] 0.009211063"
     },
     "metadata": {},
     "output_type": "display_data"
    }
   ],
   "source": [
    "1-pnorm(x, sample_mean, sample_SD)"
   ],
   "metadata": {
    "collapsed": false,
    "pycharm": {
     "name": "#%%\n"
    }
   }
  },
  {
   "cell_type": "raw",
   "source": [
    "Lower Tail"
   ],
   "metadata": {
    "collapsed": false,
    "pycharm": {
     "name": "#%% raw\n"
    }
   }
  },
  {
   "cell_type": "code",
   "execution_count": 9,
   "outputs": [
    {
     "data": {
      "text/html": "0.00715293921771482",
      "text/markdown": "0.00715293921771482",
      "text/latex": "0.00715293921771482",
      "text/plain": "[1] 0.007152939"
     },
     "metadata": {},
     "output_type": "display_data"
    }
   ],
   "source": [
    "pnorm(x, sample_mean, sample_SD)"
   ],
   "metadata": {
    "collapsed": false,
    "pycharm": {
     "name": "#%%\n"
    }
   }
  },
  {
   "cell_type": "raw",
   "source": [
    "Range interval"
   ],
   "metadata": {
    "collapsed": false,
    "pycharm": {
     "name": "#%% raw\n"
    }
   }
  },
  {
   "cell_type": "code",
   "execution_count": 6,
   "outputs": [
    {
     "data": {
      "text/html": "52.3369154107804",
      "text/markdown": "52.3369154107804",
      "text/latex": "52.3369154107804",
      "text/plain": "[1] 52.33692"
     },
     "metadata": {},
     "output_type": "display_data"
    },
    {
     "data": {
      "text/html": "55.6630845892196",
      "text/markdown": "55.6630845892196",
      "text/latex": "55.6630845892196",
      "text/plain": "[1] 55.66308"
     },
     "metadata": {},
     "output_type": "display_data"
    }
   ],
   "source": [
    "qnorm((1-percentage_range)/2, sample_mean, sample_SD)\n",
    "qnorm(percentage_range + (1-percentage_range)/2, sample_mean, sample_SD)"
   ],
   "metadata": {
    "collapsed": false,
    "pycharm": {
     "name": "#%%\n"
    }
   }
  },
  {
   "cell_type": "code",
   "execution_count": null,
   "outputs": [],
   "source": [],
   "metadata": {
    "collapsed": false,
    "pycharm": {
     "name": "#%%\n"
    }
   }
  }
 ],
 "metadata": {
  "kernelspec": {
   "name": "ir",
   "language": "R",
   "display_name": "R"
  },
  "language_info": {
   "codemirror_mode": "r",
   "file_extension": ".r",
   "mimetype": "text/x-r-source",
   "name": "R",
   "pygments_lexer": "r",
   "version": "4.0.5"
  }
 },
 "nbformat": 4,
 "nbformat_minor": 1
}