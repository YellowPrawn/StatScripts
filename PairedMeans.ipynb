{
 "cells": [
  {
   "cell_type": "markdown",
   "source": [
    "Paired means"
   ],
   "metadata": {
    "collapsed": false,
    "pycharm": {
     "name": "#%% md\n"
    }
   }
  },
  {
   "cell_type": "code",
   "execution_count": 29,
   "outputs": [
    {
     "data": {
      "text/plain": "\n\tPaired t-test\n\ndata:  data[, 1] and data[, 2]\nt = 0.084921, df = 6, p-value = 0.9351\nalternative hypothesis: true difference in means is not equal to 0\n90 percent confidence interval:\n -0.3126039  0.3411753\nsample estimates:\nmean of the differences \n             0.01428571 \n"
     },
     "metadata": {},
     "output_type": "display_data"
    },
    {
     "data": {
      "text/html": "FALSE",
      "text/markdown": "FALSE",
      "text/latex": "FALSE",
      "text/plain": "[1] FALSE"
     },
     "metadata": {},
     "output_type": "display_data"
    }
   ],
   "source": [
    "data <- matrix(c(3.5,2.6,2.6,2.8,3.0,3.1,1.9,2.4,2.9,2.9,2.4,2.2,2.0,2.2), ncol = 2, byrow = TRUE)\n",
    "conf <- 0.9\n",
    "alpha <- 0.05\n",
    "data\n",
    "## enum: \"greater\", \"less\", \"two.sided\"\n",
    "HA <- \"two.sided\"\n",
    "\n",
    "test <- t.test(data[,1], data[,2], alternative = HA, paired = TRUE, conf.level = conf)\n",
    "\n",
    "test\n",
    "(test$p.value < alpha)"
   ],
   "metadata": {
    "collapsed": false,
    "pycharm": {
     "name": "#%%\n"
    }
   }
  },
  {
   "cell_type": "raw",
   "source": [
    "FALSE: reject H0"
   ],
   "metadata": {
    "collapsed": false,
    "pycharm": {
     "name": "#%% raw\n"
    }
   }
  }
 ],
 "metadata": {
  "kernelspec": {
   "name": "ir",
   "language": "R",
   "display_name": "R"
  },
  "language_info": {
   "codemirror_mode": "r",
   "file_extension": ".r",
   "mimetype": "text/x-r-source",
   "name": "R",
   "pygments_lexer": "r",
   "version": "4.0.5"
  }
 },
 "nbformat": 4,
 "nbformat_minor": 1
}