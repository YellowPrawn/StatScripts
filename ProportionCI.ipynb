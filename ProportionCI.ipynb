{
 "cells": [
  {
   "cell_type": "markdown",
   "source": [
    "Confidence Intervals for Population Proportions"
   ],
   "metadata": {
    "collapsed": false,
    "pycharm": {
     "name": "#%% md\n"
    }
   }
  },
  {
   "cell_type": "code",
   "execution_count": 18,
   "outputs": [
    {
     "data": {
      "text/html": "0.390926909325685",
      "text/markdown": "0.390926909325685",
      "text/latex": "0.390926909325685",
      "text/plain": "[1] 0.3909269"
     },
     "metadata": {},
     "output_type": "display_data"
    },
    {
     "data": {
      "text/html": "0.529073090674315",
      "text/markdown": "0.529073090674315",
      "text/latex": "0.529073090674315",
      "text/plain": "[1] 0.5290731"
     },
     "metadata": {},
     "output_type": "display_data"
    }
   ],
   "source": [
    "sample_proportion <- 92/200\n",
    "n <- 200\n",
    "alpha <- 0.95\n",
    "\n",
    "SE <- sqrt(sample_proportion * (1-sample_proportion)/n)\n",
    "z <- qnorm(alpha + (1-alpha) / 2)\n",
    "\n",
    "(sample_proportion - z * SE)\n",
    "(sample_proportion + z * SE)"
   ],
   "metadata": {
    "collapsed": false,
    "pycharm": {
     "name": "#%%\n"
    }
   }
  },
  {
   "cell_type": "raw",
   "source": [
    "Find sample size"
   ],
   "metadata": {
    "collapsed": false
   }
  },
  {
   "cell_type": "code",
   "execution_count": null,
   "outputs": [],
   "source": [
    "sample_proportion <- 92/200\n",
    "ME <- 0.05\n",
    "alpha <- 0.95\n",
    "\n",
    "z <- qnorm(alpha + (1-alpha) / 2)\n",
    "\n",
    "z^2 * (sample_proportion) * (1-sample_proportion) / ME^2"
   ],
   "metadata": {
    "collapsed": false,
    "pycharm": {
     "name": "#%%\n"
    }
   }
  },
  {
   "cell_type": "code",
   "execution_count": null,
   "outputs": [],
   "source": [],
   "metadata": {
    "collapsed": false,
    "pycharm": {
     "name": "#%%\n"
    }
   }
  }
 ],
 "metadata": {
  "kernelspec": {
   "name": "ir",
   "language": "R",
   "display_name": "R"
  },
  "language_info": {
   "codemirror_mode": "r",
   "file_extension": ".r",
   "mimetype": "text/x-r-source",
   "name": "R",
   "pygments_lexer": "r",
   "version": "4.0.5"
  }
 },
 "nbformat": 4,
 "nbformat_minor": 1
}