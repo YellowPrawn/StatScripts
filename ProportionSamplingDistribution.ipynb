{
 "cells": [
  {
   "cell_type": "raw",
   "metadata": {
    "pycharm": {
     "name": "#%% raw\n"
    }
   },
   "source": [
    "Sampling Distribution of proportions"
   ]
  },
  {
   "cell_type": "markdown",
   "source": [],
   "metadata": {
    "collapsed": false
   }
  },
  {
   "cell_type": "code",
   "execution_count": 1,
   "metadata": {
    "pycharm": {
     "name": "#%%\n"
    }
   },
   "outputs": [],
   "source": [
    "n <- 1000\n",
    "population_mean<- 0.013\n",
    "quantile <- 0.02\n",
    "SD <- sqrt(population_mean*(1-population_mean)/n)"
   ]
  },
  {
   "cell_type": "raw",
   "source": [
    "Upper Tail"
   ],
   "metadata": {
    "collapsed": false,
    "pycharm": {
     "name": "#%% raw\n"
    }
   }
  },
  {
   "cell_type": "code",
   "execution_count": 2,
   "outputs": [
    {
     "data": {
      "text/html": "0.0253391095267202",
      "text/markdown": "0.0253391095267202",
      "text/latex": "0.0253391095267202",
      "text/plain": "[1] 0.02533911"
     },
     "metadata": {},
     "output_type": "display_data"
    }
   ],
   "source": [
    "1-pnorm(quantile,population_mean,SD)"
   ],
   "metadata": {
    "collapsed": false,
    "pycharm": {
     "name": "#%%\n"
    }
   }
  },
  {
   "cell_type": "raw",
   "source": [
    "Lower Tail"
   ],
   "metadata": {
    "collapsed": false,
    "pycharm": {
     "name": "#%% raw\n"
    }
   }
  },
  {
   "cell_type": "code",
   "execution_count": 5,
   "outputs": [
    {
     "data": {
      "text/html": "0.97466089047328",
      "text/markdown": "0.97466089047328",
      "text/latex": "0.97466089047328",
      "text/plain": "[1] 0.9746609"
     },
     "metadata": {},
     "output_type": "display_data"
    }
   ],
   "source": [
    "pnorm(quantile,population_mean,SD)"
   ],
   "metadata": {
    "collapsed": false,
    "pycharm": {
     "name": "#%%\n"
    }
   }
  }
 ],
 "metadata": {
  "kernelspec": {
   "name": "ir",
   "language": "R",
   "display_name": "R"
  },
  "language_info": {
   "codemirror_mode": "r",
   "file_extension": ".r",
   "mimetype": "text/x-r-source",
   "name": "R",
   "pygments_lexer": "r",
   "version": "4.0.5"
  }
 },
 "nbformat": 4,
 "nbformat_minor": 1
}